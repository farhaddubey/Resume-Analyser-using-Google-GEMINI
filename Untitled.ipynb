{
 "cells": [
  {
   "cell_type": "code",
   "execution_count": 1,
   "id": "0255f56b",
   "metadata": {
    "ExecuteTime": {
     "end_time": "2024-05-14T10:37:24.223560Z",
     "start_time": "2024-05-14T10:37:24.217247Z"
    }
   },
   "outputs": [],
   "source": [
    "#Description: Create a program to see how similar a resume si to a job description"
   ]
  },
  {
   "cell_type": "code",
   "execution_count": 2,
   "id": "e2966f80",
   "metadata": {
    "ExecuteTime": {
     "end_time": "2024-05-14T10:39:04.882022Z",
     "start_time": "2024-05-14T10:38:23.311810Z"
    }
   },
   "outputs": [
    {
     "name": "stdout",
     "output_type": "stream",
     "text": [
      "Collecting docx2txt\n",
      "  Downloading docx2txt-0.8.tar.gz (2.8 kB)\n",
      "  Preparing metadata (setup.py): started\n",
      "  Preparing metadata (setup.py): finished with status 'done'\n",
      "Building wheels for collected packages: docx2txt\n",
      "  Building wheel for docx2txt (setup.py): started\n",
      "  Building wheel for docx2txt (setup.py): finished with status 'done'\n",
      "  Created wheel for docx2txt: filename=docx2txt-0.8-py3-none-any.whl size=3973 sha256=b3d0d410a7a7155bb248c6d2f6989c9fdb28deabef54caac0b4763b524b299c5\n",
      "  Stored in directory: c:\\users\\farha\\appdata\\local\\pip\\cache\\wheels\\0f\\0e\\7a\\3094a4ceefe657bff7e12dd9592a9d5b6487ef4338ace0afa6\n",
      "Successfully built docx2txt\n",
      "Installing collected packages: docx2txt\n",
      "Successfully installed docx2txt-0.8\n"
     ]
    }
   ],
   "source": [
    "# Installing the docx2txt package \n",
    "!pip install docx2txt --user"
   ]
  },
  {
   "cell_type": "code",
   "execution_count": 5,
   "id": "da706b35",
   "metadata": {
    "ExecuteTime": {
     "end_time": "2024-05-14T10:41:25.481737Z",
     "start_time": "2024-05-14T10:40:58.914286Z"
    }
   },
   "outputs": [
    {
     "name": "stdout",
     "output_type": "stream",
     "text": [
      "Collecting google-colab\n",
      "  Downloading google-colab-1.0.0.tar.gz (72 kB)\n",
      "     ---------------------------------------- 0.0/72.9 kB ? eta -:--:--\n",
      "     --------------------- ---------------- 41.0/72.9 kB 653.6 kB/s eta 0:00:01\n",
      "     -------------------------------------- 72.9/72.9 kB 673.5 kB/s eta 0:00:00\n",
      "  Preparing metadata (setup.py): started\n",
      "  Preparing metadata (setup.py): finished with status 'done'\n",
      "Collecting google-auth~=1.4.0 (from google-colab)\n",
      "  Obtaining dependency information for google-auth~=1.4.0 from https://files.pythonhosted.org/packages/56/80/369a47c28ce7d9be6a6973338133d073864d8efbb62747e414c34a3a5f4f/google_auth-1.4.2-py2.py3-none-any.whl.metadata\n",
      "  Downloading google_auth-1.4.2-py2.py3-none-any.whl.metadata (3.0 kB)\n",
      "Collecting ipykernel~=4.6.0 (from google-colab)\n",
      "  Obtaining dependency information for ipykernel~=4.6.0 from https://files.pythonhosted.org/packages/18/c3/76775a650cae2e3d9c033b26153583e61282692d9a3af12a3022d8f0cefa/ipykernel-4.6.1-py3-none-any.whl.metadata\n",
      "  Downloading ipykernel-4.6.1-py3-none-any.whl.metadata (981 bytes)\n",
      "Collecting ipython~=5.5.0 (from google-colab)\n",
      "  Obtaining dependency information for ipython~=5.5.0 from https://files.pythonhosted.org/packages/07/63/c987612bcf82c56eaacaf6bf01e31e53a244a0a3a0fb036ec5adc377e0fe/ipython-5.5.0-py3-none-any.whl.metadata\n",
      "  Downloading ipython-5.5.0-py3-none-any.whl.metadata (4.3 kB)\n",
      "Collecting notebook~=5.2.0 (from google-colab)\n",
      "  Obtaining dependency information for notebook~=5.2.0 from https://files.pythonhosted.org/packages/96/a2/d951ebb7855743f989287486ded73cd3f66915c3ecd9c5c5a0c7ca12377a/notebook-5.2.2-py2.py3-none-any.whl.metadata\n",
      "  Downloading notebook-5.2.2-py2.py3-none-any.whl.metadata (1.8 kB)\n",
      "Collecting six~=1.12.0 (from google-colab)\n",
      "  Obtaining dependency information for six~=1.12.0 from https://files.pythonhosted.org/packages/73/fb/00a976f728d0d1fecfe898238ce23f502a721c0ac0ecfedb80e0d88c64e9/six-1.12.0-py2.py3-none-any.whl.metadata\n",
      "  Downloading six-1.12.0-py2.py3-none-any.whl.metadata (1.9 kB)\n",
      "Collecting pandas~=0.24.0 (from google-colab)\n",
      "  Downloading pandas-0.24.2.tar.gz (11.8 MB)\n",
      "     ---------------------------------------- 0.0/11.8 MB ? eta -:--:--\n",
      "      --------------------------------------- 0.2/11.8 MB 4.4 MB/s eta 0:00:03\n",
      "     - -------------------------------------- 0.5/11.8 MB 5.1 MB/s eta 0:00:03\n",
      "     -- ------------------------------------- 0.8/11.8 MB 5.6 MB/s eta 0:00:02\n",
      "     --- ------------------------------------ 1.0/11.8 MB 5.5 MB/s eta 0:00:02\n",
      "     --- ------------------------------------ 1.0/11.8 MB 5.5 MB/s eta 0:00:02\n",
      "     --- ------------------------------------ 1.0/11.8 MB 5.5 MB/s eta 0:00:02\n",
      "     --- ------------------------------------ 1.0/11.8 MB 5.5 MB/s eta 0:00:02\n",
      "     --- ------------------------------------ 1.0/11.8 MB 5.5 MB/s eta 0:00:02\n",
      "     --- ------------------------------------ 1.0/11.8 MB 5.5 MB/s eta 0:00:02\n",
      "     --- ------------------------------------ 1.0/11.8 MB 5.5 MB/s eta 0:00:02\n",
      "     --- ------------------------------------ 1.1/11.8 MB 2.0 MB/s eta 0:00:06\n",
      "     ---- ----------------------------------- 1.2/11.8 MB 2.2 MB/s eta 0:00:05\n",
      "     ---- ----------------------------------- 1.4/11.8 MB 2.3 MB/s eta 0:00:05\n",
      "     ----- ---------------------------------- 1.6/11.8 MB 2.4 MB/s eta 0:00:05\n",
      "     ----- ---------------------------------- 1.8/11.8 MB 2.5 MB/s eta 0:00:05\n",
      "     ------ --------------------------------- 2.0/11.8 MB 2.6 MB/s eta 0:00:04\n",
      "     ------ --------------------------------- 2.1/11.8 MB 2.6 MB/s eta 0:00:04\n",
      "     ------- -------------------------------- 2.1/11.8 MB 2.6 MB/s eta 0:00:04\n",
      "     ------- -------------------------------- 2.1/11.8 MB 2.6 MB/s eta 0:00:04\n",
      "     ------- -------------------------------- 2.1/11.8 MB 2.6 MB/s eta 0:00:04\n",
      "     ------- -------------------------------- 2.1/11.8 MB 2.6 MB/s eta 0:00:04\n",
      "     ------- -------------------------------- 2.1/11.8 MB 2.6 MB/s eta 0:00:04\n",
      "     ------- -------------------------------- 2.2/11.8 MB 2.1 MB/s eta 0:00:05\n",
      "     ------- -------------------------------- 2.2/11.8 MB 2.0 MB/s eta 0:00:05\n",
      "     ------- -------------------------------- 2.3/11.8 MB 2.0 MB/s eta 0:00:05\n",
      "     -------- ------------------------------- 2.4/11.8 MB 2.0 MB/s eta 0:00:05\n",
      "     -------- ------------------------------- 2.4/11.8 MB 1.9 MB/s eta 0:00:05\n",
      "     -------- ------------------------------- 2.5/11.8 MB 2.0 MB/s eta 0:00:05\n",
      "     --------- ------------------------------ 2.7/11.8 MB 2.0 MB/s eta 0:00:05\n",
      "     --------- ------------------------------ 2.9/11.8 MB 2.1 MB/s eta 0:00:05\n",
      "     ---------- ----------------------------- 3.0/11.8 MB 2.1 MB/s eta 0:00:05\n",
      "     ---------- ----------------------------- 3.2/11.8 MB 2.1 MB/s eta 0:00:05\n",
      "     ----------- ---------------------------- 3.3/11.8 MB 2.1 MB/s eta 0:00:05\n",
      "     ----------- ---------------------------- 3.3/11.8 MB 2.1 MB/s eta 0:00:05\n",
      "     ----------- ---------------------------- 3.4/11.8 MB 2.1 MB/s eta 0:00:05\n",
      "     ----------- ---------------------------- 3.5/11.8 MB 2.1 MB/s eta 0:00:05\n",
      "     ----------- ---------------------------- 3.5/11.8 MB 2.1 MB/s eta 0:00:05\n",
      "     ------------ --------------------------- 3.6/11.8 MB 2.1 MB/s eta 0:00:04\n",
      "     ------------ --------------------------- 3.7/11.8 MB 2.1 MB/s eta 0:00:04\n",
      "     ------------ --------------------------- 3.8/11.8 MB 2.1 MB/s eta 0:00:04\n",
      "     ------------- -------------------------- 4.0/11.8 MB 2.1 MB/s eta 0:00:04\n",
      "     ------------- -------------------------- 4.1/11.8 MB 2.1 MB/s eta 0:00:04\n",
      "     -------------- ------------------------- 4.2/11.8 MB 2.1 MB/s eta 0:00:04\n",
      "     -------------- ------------------------- 4.2/11.8 MB 2.1 MB/s eta 0:00:04\n",
      "     -------------- ------------------------- 4.2/11.8 MB 2.1 MB/s eta 0:00:04\n",
      "     -------------- ------------------------- 4.2/11.8 MB 2.1 MB/s eta 0:00:04\n",
      "     -------------- ------------------------- 4.2/11.8 MB 2.1 MB/s eta 0:00:04\n",
      "     -------------- ------------------------- 4.2/11.8 MB 2.1 MB/s eta 0:00:04\n",
      "     -------------- ------------------------- 4.3/11.8 MB 1.9 MB/s eta 0:00:05\n",
      "     -------------- ------------------------- 4.4/11.8 MB 1.9 MB/s eta 0:00:04\n",
      "     --------------- ------------------------ 4.5/11.8 MB 1.9 MB/s eta 0:00:04\n",
      "     --------------- ------------------------ 4.6/11.8 MB 1.9 MB/s eta 0:00:04\n",
      "     ---------------- ----------------------- 4.8/11.8 MB 1.9 MB/s eta 0:00:04\n",
      "     ---------------- ----------------------- 4.8/11.8 MB 1.9 MB/s eta 0:00:04\n",
      "     ---------------- ----------------------- 4.9/11.8 MB 1.9 MB/s eta 0:00:04\n",
      "     ---------------- ----------------------- 4.9/11.8 MB 1.9 MB/s eta 0:00:04\n",
      "     ---------------- ----------------------- 5.0/11.8 MB 1.9 MB/s eta 0:00:04\n",
      "     ----------------- ---------------------- 5.1/11.8 MB 1.9 MB/s eta 0:00:04\n",
      "     ----------------- ---------------------- 5.2/11.8 MB 1.9 MB/s eta 0:00:04\n",
      "     ----------------- ---------------------- 5.3/11.8 MB 1.9 MB/s eta 0:00:04\n",
      "     ------------------ --------------------- 5.4/11.8 MB 1.9 MB/s eta 0:00:04\n",
      "     ------------------ --------------------- 5.6/11.8 MB 1.9 MB/s eta 0:00:04\n",
      "     ------------------- -------------------- 5.8/11.8 MB 2.0 MB/s eta 0:00:04\n",
      "     -------------------- ------------------- 6.0/11.8 MB 2.0 MB/s eta 0:00:03\n",
      "     -------------------- ------------------- 6.2/11.8 MB 2.0 MB/s eta 0:00:03\n",
      "     --------------------- ------------------ 6.4/11.8 MB 2.1 MB/s eta 0:00:03\n",
      "     ---------------------- ----------------- 6.6/11.8 MB 2.1 MB/s eta 0:00:03\n",
      "     ---------------------- ----------------- 6.7/11.8 MB 2.1 MB/s eta 0:00:03\n",
      "     ----------------------- ---------------- 6.9/11.8 MB 2.1 MB/s eta 0:00:03\n",
      "     ----------------------- ---------------- 7.1/11.8 MB 2.2 MB/s eta 0:00:03\n",
      "     ------------------------ --------------- 7.2/11.8 MB 2.2 MB/s eta 0:00:03\n",
      "     ------------------------ --------------- 7.2/11.8 MB 2.2 MB/s eta 0:00:03\n",
      "     ------------------------ --------------- 7.3/11.8 MB 2.1 MB/s eta 0:00:03\n",
      "     ------------------------ --------------- 7.3/11.8 MB 2.1 MB/s eta 0:00:03\n",
      "     ------------------------ --------------- 7.3/11.8 MB 2.1 MB/s eta 0:00:03\n",
      "     ------------------------ --------------- 7.4/11.8 MB 2.1 MB/s eta 0:00:03\n",
      "     ------------------------- -------------- 7.5/11.8 MB 2.1 MB/s eta 0:00:03\n",
      "     ------------------------- -------------- 7.6/11.8 MB 2.1 MB/s eta 0:00:02\n",
      "     -------------------------- ------------- 7.7/11.8 MB 2.1 MB/s eta 0:00:02\n",
      "     -------------------------- ------------- 7.8/11.8 MB 2.1 MB/s eta 0:00:02\n",
      "     -------------------------- ------------- 8.0/11.8 MB 2.1 MB/s eta 0:00:02\n",
      "     --------------------------- ------------ 8.1/11.8 MB 2.1 MB/s eta 0:00:02\n",
      "     --------------------------- ------------ 8.1/11.8 MB 2.1 MB/s eta 0:00:02\n",
      "     --------------------------- ------------ 8.2/11.8 MB 2.1 MB/s eta 0:00:02\n",
      "     --------------------------- ------------ 8.3/11.8 MB 2.1 MB/s eta 0:00:02\n",
      "     ---------------------------- ----------- 8.4/11.8 MB 2.1 MB/s eta 0:00:02\n",
      "     ---------------------------- ----------- 8.4/11.8 MB 2.1 MB/s eta 0:00:02\n",
      "     ---------------------------- ----------- 8.5/11.8 MB 2.1 MB/s eta 0:00:02\n",
      "     ----------------------------- ---------- 8.6/11.8 MB 2.1 MB/s eta 0:00:02\n",
      "     ----------------------------- ---------- 8.8/11.8 MB 2.1 MB/s eta 0:00:02\n",
      "     ------------------------------ --------- 9.0/11.8 MB 2.1 MB/s eta 0:00:02\n",
      "     ------------------------------- -------- 9.2/11.8 MB 2.1 MB/s eta 0:00:02\n",
      "     ------------------------------- -------- 9.4/11.8 MB 2.2 MB/s eta 0:00:02\n",
      "     ------------------------------- -------- 9.4/11.8 MB 2.2 MB/s eta 0:00:02\n",
      "     ------------------------------- -------- 9.4/11.8 MB 2.2 MB/s eta 0:00:02\n",
      "     ------------------------------- -------- 9.4/11.8 MB 2.2 MB/s eta 0:00:02\n",
      "     ------------------------------- -------- 9.4/11.8 MB 2.2 MB/s eta 0:00:02\n",
      "     ------------------------------- -------- 9.4/11.8 MB 2.2 MB/s eta 0:00:02\n",
      "     ------------------------------- -------- 9.4/11.8 MB 2.2 MB/s eta 0:00:02\n",
      "     ------------------------------- -------- 9.4/11.8 MB 2.2 MB/s eta 0:00:02\n",
      "     ------------------------------- -------- 9.4/11.8 MB 2.2 MB/s eta 0:00:02\n",
      "     ------------------------------- -------- 9.4/11.8 MB 2.0 MB/s eta 0:00:02\n",
      "     -------------------------------- ------- 9.5/11.8 MB 2.0 MB/s eta 0:00:02\n",
      "     -------------------------------- ------- 9.7/11.8 MB 2.0 MB/s eta 0:00:02\n",
      "     --------------------------------- ------ 9.8/11.8 MB 2.0 MB/s eta 0:00:01\n",
      "     --------------------------------- ------ 10.0/11.8 MB 2.0 MB/s eta 0:00:01\n",
      "     ---------------------------------- ----- 10.2/11.8 MB 2.1 MB/s eta 0:00:01\n",
      "     ----------------------------------- ---- 10.4/11.8 MB 2.0 MB/s eta 0:00:01\n",
      "     ----------------------------------- ---- 10.6/11.8 MB 2.0 MB/s eta 0:00:01\n",
      "     ------------------------------------ --- 10.8/11.8 MB 2.0 MB/s eta 0:00:01\n",
      "     ------------------------------------- -- 11.0/11.8 MB 2.0 MB/s eta 0:00:01\n",
      "     ------------------------------------- -- 11.2/11.8 MB 2.0 MB/s eta 0:00:01\n",
      "     -------------------------------------- - 11.5/11.8 MB 2.2 MB/s eta 0:00:01\n",
      "     ---------------------------------------  11.8/11.8 MB 2.2 MB/s eta 0:00:01\n",
      "     ---------------------------------------  11.8/11.8 MB 2.2 MB/s eta 0:00:01\n",
      "     ---------------------------------------- 11.8/11.8 MB 2.2 MB/s eta 0:00:00\n",
      "  Preparing metadata (setup.py): started\n",
      "  Preparing metadata (setup.py): finished with status 'error'\n"
     ]
    },
    {
     "name": "stderr",
     "output_type": "stream",
     "text": [
      "  error: subprocess-exited-with-error\n",
      "  \n",
      "  python setup.py egg_info did not run successfully.\n",
      "  exit code: 1\n",
      "  \n",
      "  [15 lines of output]\n",
      "  C:\\Users\\farha\\AppData\\Local\\Temp\\pip-install-6apn8tnj\\pandas_7d8b7e3fe38a427da84bfa64bc95a2e4\\setup.py:12: DeprecationWarning: pkg_resources is deprecated as an API. See https://setuptools.pypa.io/en/latest/pkg_resources.html\n",
      "    import pkg_resources\n",
      "  E:\\Anaconda\\Lib\\site-packages\\setuptools\\__init__.py:84: _DeprecatedInstaller: setuptools.installer and fetch_build_eggs are deprecated.\n",
      "  !!\n",
      "  \n",
      "          ********************************************************************************\n",
      "          Requirements should be satisfied by a PEP 517 installer.\n",
      "          If you are using pip, you can try `pip install --use-pep517`.\n",
      "          ********************************************************************************\n",
      "  \n",
      "  !!\n",
      "    dist.fetch_build_eggs(dist.setup_requires)\n",
      "  error in pandas setup command: 'install_requires' must be a string or list of strings containing valid project/version requirement specifiers; Expected end or semicolon (after version specifier)\n",
      "      pytz >= 2011k\n",
      "           ~~~~~~~^\n",
      "  [end of output]\n",
      "  \n",
      "  note: This error originates from a subprocess, and is likely not a problem with pip.\n",
      "error: metadata-generation-failed\n",
      "\n",
      "Encountered error while generating package metadata.\n",
      "\n",
      "See above for output.\n",
      "\n",
      "note: This is an issue with the package mentioned above, not pip.\n",
      "hint: See above for details.\n"
     ]
    }
   ],
   "source": [
    "import docx2txt\n",
    "!pip install google-colab --user"
   ]
  },
  {
   "cell_type": "code",
   "execution_count": 12,
   "id": "27f154b8",
   "metadata": {
    "ExecuteTime": {
     "end_time": "2024-05-14T11:15:19.565553Z",
     "start_time": "2024-05-14T11:15:19.542231Z"
    }
   },
   "outputs": [
    {
     "ename": "ModuleNotFoundError",
     "evalue": "No module named 'google.colab'",
     "output_type": "error",
     "traceback": [
      "\u001b[1;31m---------------------------------------------------------------------------\u001b[0m",
      "\u001b[1;31mModuleNotFoundError\u001b[0m                       Traceback (most recent call last)",
      "Cell \u001b[1;32mIn[12], line 2\u001b[0m\n\u001b[0;32m      1\u001b[0m \u001b[38;5;66;03m# loading the data\u001b[39;00m\n\u001b[1;32m----> 2\u001b[0m \u001b[38;5;28;01mfrom\u001b[39;00m \u001b[38;5;21;01mgoogle\u001b[39;00m\u001b[38;5;21;01m.\u001b[39;00m\u001b[38;5;21;01mcolab\u001b[39;00m \u001b[38;5;28;01mimport\u001b[39;00m files \n\u001b[0;32m      3\u001b[0m uploaded \u001b[38;5;241m=\u001b[39m files\u001b[38;5;241m.\u001b[39mupload()\n",
      "\u001b[1;31mModuleNotFoundError\u001b[0m: No module named 'google.colab'"
     ]
    }
   ],
   "source": [
    "# loading the data\n",
    "from google.colab import files \n",
    "uploaded = files.upload()"
   ]
  },
  {
   "cell_type": "code",
   "execution_count": 10,
   "id": "08fd8c28",
   "metadata": {
    "ExecuteTime": {
     "end_time": "2024-05-14T10:46:14.841736Z",
     "start_time": "2024-05-14T10:46:14.836017Z"
    }
   },
   "outputs": [
    {
     "data": {
      "text/plain": [
       "['A:/Resume Analyser Project using Machine Learning\\\\resume_analyser1.ipynb',\n",
       " 'A:/Resume Analyser Project using Machine Learning\\\\Untitled.ipynb']"
      ]
     },
     "execution_count": 10,
     "metadata": {},
     "output_type": "execute_result"
    }
   ],
   "source": [
    "from glob import glob\n",
    "glob(\"A:/Resume Analyser Project using Machine Learning/*\")"
   ]
  },
  {
   "cell_type": "code",
   "execution_count": null,
   "id": "1debe57c",
   "metadata": {},
   "outputs": [],
   "source": []
  }
 ],
 "metadata": {
  "kernelspec": {
   "display_name": "Python 3 (ipykernel)",
   "language": "python",
   "name": "python3"
  },
  "language_info": {
   "codemirror_mode": {
    "name": "ipython",
    "version": 3
   },
   "file_extension": ".py",
   "mimetype": "text/x-python",
   "name": "python",
   "nbconvert_exporter": "python",
   "pygments_lexer": "ipython3",
   "version": "3.11.5"
  },
  "toc": {
   "base_numbering": 1,
   "nav_menu": {},
   "number_sections": true,
   "sideBar": true,
   "skip_h1_title": false,
   "title_cell": "Table of Contents",
   "title_sidebar": "Contents",
   "toc_cell": false,
   "toc_position": {},
   "toc_section_display": true,
   "toc_window_display": false
  },
  "varInspector": {
   "cols": {
    "lenName": 16,
    "lenType": 16,
    "lenVar": 40
   },
   "kernels_config": {
    "python": {
     "delete_cmd_postfix": "",
     "delete_cmd_prefix": "del ",
     "library": "var_list.py",
     "varRefreshCmd": "print(var_dic_list())"
    },
    "r": {
     "delete_cmd_postfix": ") ",
     "delete_cmd_prefix": "rm(",
     "library": "var_list.r",
     "varRefreshCmd": "cat(var_dic_list()) "
    }
   },
   "types_to_exclude": [
    "module",
    "function",
    "builtin_function_or_method",
    "instance",
    "_Feature"
   ],
   "window_display": false
  }
 },
 "nbformat": 4,
 "nbformat_minor": 5
}
